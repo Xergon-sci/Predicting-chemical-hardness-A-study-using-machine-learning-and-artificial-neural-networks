{
  "nbformat": 4,
  "nbformat_minor": 0,
  "metadata": {
    "colab": {
      "name": "Similarity search.ipynb",
      "provenance": [],
      "collapsed_sections": [
        "etzcCEtrrauP",
        "T9jvf8lard8D"
      ],
      "toc_visible": true,
      "mount_file_id": "1hOpgmLcTMFFDaD5dMc3TsOlI_IGq8E3H",
      "authorship_tag": "ABX9TyOcxVLUrm36U6C9VEQWWwyG",
      "include_colab_link": true
    },
    "kernelspec": {
      "name": "python3",
      "display_name": "Python 3"
    }
  },
  "cells": [
    {
      "cell_type": "markdown",
      "metadata": {
        "id": "view-in-github",
        "colab_type": "text"
      },
      "source": [
        "<a href=\"https://colab.research.google.com/github/Xergon-sci/Predicting-chemical-hardness-A-study-using-machine-learning-and-artificial-neural-networks/blob/master/Similarity_search.ipynb\" target=\"_parent\"><img src=\"https://colab.research.google.com/assets/colab-badge.svg\" alt=\"Open In Colab\"/></a>"
      ]
    },
    {
      "cell_type": "code",
      "metadata": {
        "id": "Txs80WkwLpp9",
        "colab_type": "code",
        "colab": {
          "base_uri": "https://localhost:8080/",
          "height": 182
        },
        "outputId": "f35158a3-e13d-4164-c555-fff134be9d13"
      },
      "source": [
        "import sys\n",
        "import os\n",
        "import requests\n",
        "import subprocess\n",
        "import shutil\n",
        "from logging import getLogger, StreamHandler, INFO\n",
        "\n",
        "\n",
        "logger = getLogger(__name__)\n",
        "logger.addHandler(StreamHandler())\n",
        "logger.setLevel(INFO)\n",
        "\n",
        "\n",
        "def install(\n",
        "        chunk_size=4096,\n",
        "        file_name=\"Miniconda3-latest-Linux-x86_64.sh\",\n",
        "        url_base=\"https://repo.continuum.io/miniconda/\",\n",
        "        conda_path=os.path.expanduser(os.path.join(\"~\", \"miniconda\")),\n",
        "        rdkit_version=None,\n",
        "        add_python_path=True,\n",
        "        force=False):\n",
        "    \"\"\"install rdkit from miniconda\n",
        "    ```\n",
        "    import rdkit_installer\n",
        "    rdkit_installer.install()\n",
        "    ```\n",
        "    \"\"\"\n",
        "\n",
        "    python_path = os.path.join(\n",
        "        conda_path,\n",
        "        \"lib\",\n",
        "        \"python{0}.{1}\".format(*sys.version_info),\n",
        "        \"site-packages\",\n",
        "    )\n",
        "\n",
        "    if add_python_path and python_path not in sys.path:\n",
        "        logger.info(\"add {} to PYTHONPATH\".format(python_path))\n",
        "        sys.path.append(python_path)\n",
        "\n",
        "    if os.path.isdir(os.path.join(python_path, \"rdkit\")):\n",
        "        logger.info(\"rdkit is already installed\")\n",
        "        if not force:\n",
        "            return\n",
        "\n",
        "        logger.info(\"force re-install\")\n",
        "\n",
        "    url = url_base + file_name\n",
        "    python_version = \"{0}.{1}.{2}\".format(*sys.version_info)\n",
        "\n",
        "    logger.info(\"python version: {}\".format(python_version))\n",
        "\n",
        "    if os.path.isdir(conda_path):\n",
        "        logger.warning(\"remove current miniconda\")\n",
        "        shutil.rmtree(conda_path)\n",
        "    elif os.path.isfile(conda_path):\n",
        "        logger.warning(\"remove {}\".format(conda_path))\n",
        "        os.remove(conda_path)\n",
        "\n",
        "    logger.info('fetching installer from {}'.format(url))\n",
        "    res = requests.get(url, stream=True)\n",
        "    res.raise_for_status()\n",
        "    with open(file_name, 'wb') as f:\n",
        "        for chunk in res.iter_content(chunk_size):\n",
        "            f.write(chunk)\n",
        "    logger.info('done')\n",
        "\n",
        "    logger.info('installing miniconda to {}'.format(conda_path))\n",
        "    subprocess.check_call([\"bash\", file_name, \"-b\", \"-p\", conda_path])\n",
        "    logger.info('done')\n",
        "\n",
        "    logger.info(\"installing rdkit\")\n",
        "    subprocess.check_call([\n",
        "        os.path.join(conda_path, \"bin\", \"conda\"),\n",
        "        \"install\",\n",
        "        \"--yes\",\n",
        "        \"-c\", \"rdkit\",\n",
        "        \"python=={}\".format(python_version),\n",
        "        \"rdkit\" if rdkit_version is None else \"rdkit=={}\".format(rdkit_version)])\n",
        "    logger.info(\"done\")\n",
        "\n",
        "    import rdkit\n",
        "    logger.info(\"rdkit-{} installation finished!\".format(rdkit.__version__))\n",
        "\n",
        "\n",
        "if __name__ == \"__main__\":\n",
        "    install()"
      ],
      "execution_count": null,
      "outputs": [
        {
          "output_type": "stream",
          "text": [
            "add /root/miniconda/lib/python3.6/site-packages to PYTHONPATH\n",
            "python version: 3.6.9\n",
            "fetching installer from https://repo.continuum.io/miniconda/Miniconda3-latest-Linux-x86_64.sh\n",
            "done\n",
            "installing miniconda to /root/miniconda\n",
            "done\n",
            "installing rdkit\n",
            "done\n",
            "rdkit-2020.03.3 installation finished!\n"
          ],
          "name": "stderr"
        }
      ]
    },
    {
      "cell_type": "code",
      "metadata": {
        "id": "5wlv-UMQrvEI",
        "colab_type": "code",
        "colab": {}
      },
      "source": [
        "import pandas as pd\n",
        "from rdkit import Chem, DataStructs\n",
        "import numpy as np\n",
        "from scipy.spatial.distance import euclidean\n",
        "\n",
        "# Load data\n",
        "df = pd.read_table(\"/content/drive/My Drive/vub/dataset_R.txt\", sep='\\t')"
      ],
      "execution_count": null,
      "outputs": []
    },
    {
      "cell_type": "code",
      "metadata": {
        "id": "VefNsxhgsLGN",
        "colab_type": "code",
        "colab": {}
      },
      "source": [
        "# Group < 3\n",
        "l3_RAW = df.loc[df['n'] < 3]\n",
        "l3 = l3_RAW.reset_index()\n",
        "l3 = l3['smiles']\n",
        "\n",
        "# Group > 6\n",
        "g6_RAW = df.loc[df['n'] > 6]\n",
        "g6 = g6_RAW.reset_index()\n",
        "g6 = g6['smiles']\n",
        "\n",
        "# Reference group\n",
        "gr_RAW = df.loc[(df['n'] >= 3) & (df['n'] <= 6)]\n",
        "gr = gr_RAW.reset_index()\n",
        "gr = gr['smiles']\n",
        "\n",
        "# Outliers\n",
        "outliers = df.iloc[[7,69,274,391,404,647,944,1334,1579,1604,1637,2309,2675,2755,2773,2881,2884,2949,3032,3716,4121,4242,4369,4471,4620,4816], 1]\n",
        "outliers = outliers.reset_index()\n",
        "outliers = outliers['smiles']"
      ],
      "execution_count": null,
      "outputs": []
    },
    {
      "cell_type": "markdown",
      "metadata": {
        "id": "cFxn_r_WVeeU",
        "colab_type": "text"
      },
      "source": [
        "# Rdkit Based"
      ]
    },
    {
      "cell_type": "markdown",
      "metadata": {
        "id": "etzcCEtrrauP",
        "colab_type": "text"
      },
      "source": [
        "## Functions"
      ]
    },
    {
      "cell_type": "code",
      "metadata": {
        "id": "VS1NAZiRLE7V",
        "colab_type": "code",
        "colab": {}
      },
      "source": [
        "def FindSimilaritiesFromSmiles(reference, comparables):\n",
        "  \n",
        "  mRef = Chem.MolFromSmiles(reference)\n",
        "  ref = Chem.RDKFingerprint(mRef)\n",
        "\n",
        "  comp = []\n",
        "\n",
        "  print('Generating fingerprints...')\n",
        "  for c in comparables:\n",
        "    m = Chem.MolFromSmiles(c)\n",
        "    comp.append(Chem.RDKFingerprint(m))\n",
        "  print('Fingerprints generated.')\n",
        "  \n",
        "  results = []\n",
        "\n",
        "  print('Checking for similarities...')\n",
        "  for x in comp:\n",
        "    results.append(DataStructs.TanimotoSimilarity(ref, x))\n",
        "  print('Check Complete.')\n",
        "  \n",
        "  return results\n",
        "\n",
        "def FindSimilaritiesForList(reference, comparables):\n",
        "  results = []\n",
        "  i = 1\n",
        "  \n",
        "  for m in reference:\n",
        "    print('----- {} -----'.format(i))\n",
        "    results.append(FindSimilaritiesFromSmiles(m, comparables))\n",
        "    i = i+1\n",
        "  \n",
        "  results = pd.DataFrame(results)\n",
        "\n",
        "  return results"
      ],
      "execution_count": null,
      "outputs": []
    },
    {
      "cell_type": "markdown",
      "metadata": {
        "id": "T9jvf8lard8D",
        "colab_type": "text"
      },
      "source": [
        "## Calculations"
      ]
    },
    {
      "cell_type": "code",
      "metadata": {
        "id": "z9mu_NgWu4r4",
        "colab_type": "code",
        "colab": {}
      },
      "source": [
        "# Group < 3 v 3-6\n",
        "l3Results = FindSimilaritiesForList(l3, gr)\n",
        "l3Results = pd.DataFrame(l3Results)\n",
        "l3Results.to_excel(\"Results_Lower_Group.xlsx\")"
      ],
      "execution_count": null,
      "outputs": []
    },
    {
      "cell_type": "code",
      "metadata": {
        "id": "qujhWcLziZRl",
        "colab_type": "code",
        "colab": {}
      },
      "source": [
        "# Group > 6 v 3-6\n",
        "g6Results = FindSimilaritiesForList(g6, gr)\n",
        "g6Results = pd.DataFrame(g6Results)\n",
        "g6Results.to_excel(\"Results_Upper_Group.xlsx\")"
      ],
      "execution_count": null,
      "outputs": []
    },
    {
      "cell_type": "code",
      "metadata": {
        "id": "e__KRCN9uKRJ",
        "colab_type": "code",
        "colab": {}
      },
      "source": [
        "# Outliers v 3-6\n",
        "outliersResults = FindSimilaritiesForList(outliers, gr)\n",
        "outliersResults = pd.DataFrame(outliersResults)\n",
        "outliersResults.to_excel(\"Results_Outliers.xlsx\")"
      ],
      "execution_count": null,
      "outputs": []
    },
    {
      "cell_type": "code",
      "metadata": {
        "id": "c-zRJaGmVima",
        "colab_type": "code",
        "colab": {}
      },
      "source": [
        "# Group < 3 v < 3\n",
        "l3vl3Results = FindSimilaritiesForList(l3, l3)\n",
        "l3vl3Results = pd.DataFrame(l3vl3Results)\n",
        "l3vl3Results.to_excel(\"Results_l3vl3.xlsx\")"
      ],
      "execution_count": null,
      "outputs": []
    },
    {
      "cell_type": "code",
      "metadata": {
        "id": "ahav3Fa1XFY-",
        "colab_type": "code",
        "colab": {}
      },
      "source": [
        "# Group > 6 v > 6\n",
        "g6vg6Results = FindSimilaritiesForList(g6, g6)\n",
        "g6vg6Results = pd.DataFrame(g6vg6Results)\n",
        "g6vg6Results.to_excel(\"Results_g6vg6.xlsx\")"
      ],
      "execution_count": null,
      "outputs": []
    },
    {
      "cell_type": "markdown",
      "metadata": {
        "id": "4Dtko-CoNI_X",
        "colab_type": "text"
      },
      "source": [
        "# MQN Based"
      ]
    },
    {
      "cell_type": "code",
      "metadata": {
        "id": "QDFt12BhMn1E",
        "colab_type": "code",
        "colab": {
          "base_uri": "https://localhost:8080/",
          "height": 317
        },
        "outputId": "df3327c0-5c23-4279-f9fc-d18371909af4"
      },
      "source": [
        "from rdkit.Chem import Draw\n",
        "\n",
        "dm = []\n",
        "dm.append(Chem.MolFromSmiles('CC1OC2C3C4CCC2(C4)NC13C'))\n",
        "dm.append(Chem.MolFromSmiles('CC1C2CC34NC2CC3C=CC14N'))\n",
        "dm.append(Chem.MolFromSmiles('ON=C1NC2C3C2C2CC3NC12'))\n",
        "\n",
        "Chem.Draw.MolsToGridImage(dm, molsPerRow=3, subImgSize=(300,300))"
      ],
      "execution_count": null,
      "outputs": [
        {
          "output_type": "execute_result",
          "data": {
            "image/png": "[encoded data removed]",
            "text/plain": [
              "<PIL.PngImagePlugin.PngImageFile image mode=RGB size=900x300 at 0x7F8149787BE0>"
            ]
          },
          "metadata": {
            "tags": []
          },
          "execution_count": 16
        }
      ]
    },
    {
      "cell_type": "markdown",
      "metadata": {
        "id": "uwpO-isKrkHq",
        "colab_type": "text"
      },
      "source": [
        "## Functions"
      ]
    },
    {
      "cell_type": "code",
      "metadata": {
        "id": "rWhkMvBWbP-Y",
        "colab_type": "code",
        "colab": {}
      },
      "source": [
        "def NormalizeValue(value, upperBound, lowerbound=0):\n",
        "  r = upperBound - lowerbound\n",
        "\n",
        "  if r == 0:\n",
        "    result = 0\n",
        "  else:\n",
        "    result = np.absolute((value - r) / r)\n",
        "  return result\n",
        "\n",
        "def NormalizeMQN(MQN):\n",
        "  result = []\n",
        "\n",
        "  result.append(NormalizeValue(MQN[0],13))  # Carbon\n",
        "  result.append(NormalizeValue(MQN[1],0))  # Fluorine\n",
        "  result.append(NormalizeValue(MQN[2],1))  # Chlorine\n",
        "  result.append(NormalizeValue(MQN[3],0))  # Bromine\n",
        "  result.append(NormalizeValue(MQN[4],0))  # Iodine\n",
        "  result.append(NormalizeValue(MQN[5],2))  # Sulfur\n",
        "  result.append(NormalizeValue(MQN[6],0))  # Phosphorous\n",
        "  result.append(NormalizeValue(MQN[7],5))  # Acyclic nitrogen\n",
        "  result.append(NormalizeValue(MQN[8],5))  # Cyclic nitrogen\n",
        "  result.append(NormalizeValue(MQN[9],5))  # Acyclic oxygen\n",
        "  result.append(NormalizeValue(MQN[10],4))  # Cyclic oxygen\n",
        "  result.append(NormalizeValue(MQN[11],17))  # Heavy atoms\n",
        "  result.append(NormalizeValue(MQN[12],12))  # Acyclic single bonds\n",
        "  result.append(NormalizeValue(MQN[13],5))  # Acyclic double bonds\n",
        "  result.append(NormalizeValue(MQN[14],3))  # Acyclic triple bonds\n",
        "  result.append(NormalizeValue(MQN[15],18))  # Cyclic single bonds\n",
        "  result.append(NormalizeValue(MQN[16],6))  # Cyclic double bonds\n",
        "  result.append(NormalizeValue(MQN[17],2))  # Cyclic triple bonds\n",
        "  result.append(NormalizeValue(MQN[18],8))  # Rotable bonds\n",
        "  result.append(NormalizeValue(MQN[19],12))  # H-bond acceptor sites\n",
        "  result.append(NormalizeValue(MQN[20],7))  # H-bond acceptor atoms\n",
        "  result.append(NormalizeValue(MQN[21],10))  # H-bond donor sites\n",
        "  result.append(NormalizeValue(MQN[22],5))  # H-bond donor atoms\n",
        "  result.append(NormalizeValue(MQN[23],1))  # Negative charges\n",
        "  result.append(NormalizeValue(MQN[24],1))  # Positive charges\n",
        "  result.append(NormalizeValue(MQN[25],8))  # Acyclic single valent nodes\n",
        "  result.append(NormalizeValue(MQN[26],11))  # Acyclic divalent nodes\n",
        "  result.append(NormalizeValue(MQN[27],5))  # Acyclic trivalent nodes\n",
        "  result.append(NormalizeValue(MQN[28],2))  # Acyclic tetravalent nodes\n",
        "  result.append(NormalizeValue(MQN[29],13))  # Cyclic divalent nodes\n",
        "  result.append(NormalizeValue(MQN[30],10))  # Cyclic trivalent nodes\n",
        "  result.append(NormalizeValue(MQN[31],4))  # Cyclic tetravalent nodes\n",
        "  result.append(NormalizeValue(MQN[32],3))  # 3-membered rings\n",
        "  result.append(NormalizeValue(MQN[33],2))  # 4-membered rings\n",
        "  result.append(NormalizeValue(MQN[34],6))  # 5-membered rings\n",
        "  result.append(NormalizeValue(MQN[35],5))  # 6-membered rings\n",
        "  result.append(NormalizeValue(MQN[36],4))  # 7-membered rings\n",
        "  result.append(NormalizeValue(MQN[37],4))  # 8-membered rings\n",
        "  result.append(NormalizeValue(MQN[38],2))  # 9-membered rings\n",
        "  result.append(NormalizeValue(MQN[39],2))  # >= 10-membered rings\n",
        "  result.append(NormalizeValue(MQN[40],12))  # nodes shared by >= 2 rings\n",
        "  result.append(NormalizeValue(MQN[41],15))  # edges shared by >= 2 rings\n",
        "  return np.array(result)\n",
        "\n",
        "def ConstructMQNVectors(df):\n",
        "  mqndf = df.iloc[:,2:44]\n",
        "  mqndf = mqndf.reset_index()\n",
        "  mqndf = mqndf.drop(columns=['index'])\n",
        "\n",
        "  result = mqndf.to_numpy()\n",
        "  return result\n",
        "  \n",
        "def CompareMQN(reference, comparable):\n",
        "  diff = np.subtract(reference, comparable)\n",
        "  absol = np.absolute(diff)\n",
        "  result = np.sum(absol)\n",
        "  \n",
        "  return result\n",
        "\n",
        "def CompareMQN_V2(reference, comparable):\n",
        "  nRef = NormalizeMQN(reference)\n",
        "  nComp = NormalizeMQN(comparable)\n",
        "\n",
        "  diff = np.subtract(nRef, nComp)\n",
        "  result = np.sum(diff**2)\n",
        "  return result\n",
        "\n",
        "def CompareMQN_V3(reference, comparable):\n",
        "  result = euclidean(reference, comparable)\n",
        "  return result\n",
        "\n",
        "def FindSimilaritiesFromMQN(reference, comparables, MQN_version=2):\n",
        "  results = []\n",
        "\n",
        "  print('Checking for similarities...')\n",
        "  for x in comparables:\n",
        "    if MQN_version == 1:\n",
        "      results.append(CompareMQN(reference, x))\n",
        "    elif MQN_version == 2:\n",
        "      results.append(CompareMQN_V2(reference, x))\n",
        "    elif MQN_version == 3:\n",
        "      results.append(CompareMQN_V3(reference, x))\n",
        "\n",
        "  print('Check Complete.')\n",
        "  \n",
        "  return results\n",
        "\n",
        "def FindSimilaritiesFromMQNList(references, comparables, MQN_version=2):\n",
        "  results = []\n",
        "  i = 1\n",
        "  \n",
        "  for mqn in references:\n",
        "    print('----- {} -----'.format(i))\n",
        "    results.append(FindSimilaritiesFromMQN(mqn, comparables, MQN_version))\n",
        "    i = i+1\n",
        "  \n",
        "  results = pd.DataFrame(results)\n",
        "\n",
        "  return results"
      ],
      "execution_count": null,
      "outputs": []
    },
    {
      "cell_type": "markdown",
      "metadata": {
        "id": "mjuMiH2irpo1",
        "colab_type": "text"
      },
      "source": [
        "## Calculations"
      ]
    },
    {
      "cell_type": "code",
      "metadata": {
        "id": "lwZS3hdtwS9x",
        "colab_type": "code",
        "colab": {}
      },
      "source": [
        "outliers_RAW = df.iloc[[7,69,274,391,404,647,944,1334,1579,1604,1637,2309,2675,2755,2773,2881,2884,2949,3032,3716,4121,4242,4369,4471,4620,4816],:]\n",
        "\n",
        "l3_MQN = ConstructMQNVectors(l3_RAW)\n",
        "g6_MQN = ConstructMQNVectors(g6_RAW)\n",
        "gr_MQN = ConstructMQNVectors(gr_RAW)\n",
        "outliers_MQN = ConstructMQNVectors(outliers_RAW)"
      ],
      "execution_count": null,
      "outputs": []
    },
    {
      "cell_type": "code",
      "metadata": {
        "id": "rGudfWOFgudi",
        "colab_type": "code",
        "colab": {}
      },
      "source": [
        "# Group < 3 v 3-6\n",
        "l3_MQN_Results = FindSimilaritiesFromMQNList(l3_MQN, gr_MQN, 1)\n",
        "l3_MQN_Results = pd.DataFrame(l3_MQN_Results)\n",
        "l3_MQN_Results.to_excel(\"MQN_Results_Lower_Group.xlsx\")"
      ],
      "execution_count": null,
      "outputs": []
    },
    {
      "cell_type": "code",
      "metadata": {
        "id": "HQoR-HZW0BDC",
        "colab_type": "code",
        "colab": {}
      },
      "source": [
        "# Group > 6 v 3-6\n",
        "g6_MQN_Results = FindSimilaritiesFromMQNList(g6_MQN, gr_MQN, 1)\n",
        "g6_MQN_Results = pd.DataFrame(g6_MQN_Results)\n",
        "g6_MQN_Results.to_excel(\"MQN_Results_Upper_Group.xlsx\")"
      ],
      "execution_count": null,
      "outputs": []
    },
    {
      "cell_type": "code",
      "metadata": {
        "id": "VC8Yy9GR15V8",
        "colab_type": "code",
        "colab": {}
      },
      "source": [
        "# Outliers v 3-6\n",
        "outliers_MQN_Results = FindSimilaritiesFromMQNList(outliers_MQN, gr_MQN, 1)\n",
        "outliers_MQN_Results = pd.DataFrame(outliers_MQN_Results)\n",
        "outliers_MQN_Results.to_excel(\"MQN_Results_Outliers.xlsx\")"
      ],
      "execution_count": null,
      "outputs": []
    },
    {
      "cell_type": "code",
      "metadata": {
        "id": "_b1ej_Fk3XGN",
        "colab_type": "code",
        "colab": {}
      },
      "source": [
        "# Group < 3 v < 3\n",
        "l3vl3_MQN_Results = FindSimilaritiesFromMQNList(l3_MQN, l3_MQN, 2)\n",
        "l3vl3_MQN_Results = pd.DataFrame(l3vl3_MQN_Results)\n",
        "l3vl3_MQN_Results.to_excel(\"MQN_Results_l3vl3.xlsx\")"
      ],
      "execution_count": null,
      "outputs": []
    },
    {
      "cell_type": "code",
      "metadata": {
        "id": "hBB1xO0X3p1e",
        "colab_type": "code",
        "colab": {}
      },
      "source": [
        "# Group > 6 v > 6\n",
        "g6vg6_MQN_Results = FindSimilaritiesFromMQNList(g6_MQN, g6_MQN, 2)\n",
        "g6vg6_MQN_Results = pd.DataFrame(g6vg6_MQN_Results)\n",
        "g6vg6_MQN_Results.to_excel(\"MQN_Results_g6vg6.xlsx\")"
      ],
      "execution_count": null,
      "outputs": []
    },
    {
      "cell_type": "code",
      "metadata": {
        "id": "7ckbX0SweGKU",
        "colab_type": "code",
        "colab": {}
      },
      "source": [
        "# Group < 3 v < 3\n",
        "l3vl3_MQN_Results = FindSimilaritiesFromMQNList(l3_MQN, l3_MQN, 3)\n",
        "l3vl3_MQN_Results = pd.DataFrame(l3vl3_MQN_Results)\n",
        "l3vl3_MQN_Results.to_excel(\"MQN_Results_l3vl3.xlsx\")"
      ],
      "execution_count": null,
      "outputs": []
    },
    {
      "cell_type": "code",
      "metadata": {
        "id": "7xPecEDJklM1",
        "colab_type": "code",
        "colab": {
          "base_uri": "https://localhost:8080/",
          "height": 1000
        },
        "outputId": "0907dd08-c572-43a6-a815-a0875c97293e"
      },
      "source": [
        "# Group > 6 v > 6\n",
        "g6vg6_MQN_Results = FindSimilaritiesFromMQNList(g6_MQN, g6_MQN, 3)\n",
        "g6vg6_MQN_Results = pd.DataFrame(g6vg6_MQN_Results)\n",
        "g6vg6_MQN_Results.to_excel(\"MQN_Results_g6vg6.xlsx\")"
      ],
      "execution_count": null,
      "outputs": [
        {
          "output_type": "stream",
          "text": [
            "----- 1 -----\n",
            "Checking for similarities...\n",
            "Check Complete.\n",
            "----- 2 -----\n",
            "Checking for similarities...\n",
            "Check Complete.\n",
            "----- 3 -----\n",
            "Checking for similarities...\n",
            "Check Complete.\n",
            "----- 4 -----\n",
            "Checking for similarities...\n",
            "Check Complete.\n",
            "----- 5 -----\n",
            "Checking for similarities...\n",
            "Check Complete.\n",
            "----- 6 -----\n",
            "Checking for similarities...\n",
            "Check Complete.\n",
            "----- 7 -----\n",
            "Checking for similarities...\n",
            "Check Complete.\n",
            "----- 8 -----\n",
            "Checking for similarities...\n",
            "Check Complete.\n",
            "----- 9 -----\n",
            "Checking for similarities...\n",
            "Check Complete.\n",
            "----- 10 -----\n",
            "Checking for similarities...\n",
            "Check Complete.\n",
            "----- 11 -----\n",
            "Checking for similarities...\n",
            "Check Complete.\n",
            "----- 12 -----\n",
            "Checking for similarities...\n",
            "Check Complete.\n",
            "----- 13 -----\n",
            "Checking for similarities...\n",
            "Check Complete.\n",
            "----- 14 -----\n",
            "Checking for similarities...\n",
            "Check Complete.\n",
            "----- 15 -----\n",
            "Checking for similarities...\n",
            "Check Complete.\n",
            "----- 16 -----\n",
            "Checking for similarities...\n",
            "Check Complete.\n",
            "----- 17 -----\n",
            "Checking for similarities...\n",
            "Check Complete.\n",
            "----- 18 -----\n",
            "Checking for similarities...\n",
            "Check Complete.\n",
            "----- 19 -----\n",
            "Checking for similarities...\n",
            "Check Complete.\n",
            "----- 20 -----\n",
            "Checking for similarities...\n",
            "Check Complete.\n",
            "----- 21 -----\n",
            "Checking for similarities...\n",
            "Check Complete.\n",
            "----- 22 -----\n",
            "Checking for similarities...\n",
            "Check Complete.\n",
            "----- 23 -----\n",
            "Checking for similarities...\n",
            "Check Complete.\n",
            "----- 24 -----\n",
            "Checking for similarities...\n",
            "Check Complete.\n",
            "----- 25 -----\n",
            "Checking for similarities...\n",
            "Check Complete.\n",
            "----- 26 -----\n",
            "Checking for similarities...\n",
            "Check Complete.\n",
            "----- 27 -----\n",
            "Checking for similarities...\n",
            "Check Complete.\n",
            "----- 28 -----\n",
            "Checking for similarities...\n",
            "Check Complete.\n",
            "----- 29 -----\n",
            "Checking for similarities...\n",
            "Check Complete.\n",
            "----- 30 -----\n",
            "Checking for similarities...\n",
            "Check Complete.\n",
            "----- 31 -----\n",
            "Checking for similarities...\n",
            "Check Complete.\n",
            "----- 32 -----\n",
            "Checking for similarities...\n",
            "Check Complete.\n",
            "----- 33 -----\n",
            "Checking for similarities...\n",
            "Check Complete.\n",
            "----- 34 -----\n",
            "Checking for similarities...\n",
            "Check Complete.\n",
            "----- 35 -----\n",
            "Checking for similarities...\n",
            "Check Complete.\n",
            "----- 36 -----\n",
            "Checking for similarities...\n",
            "Check Complete.\n",
            "----- 37 -----\n",
            "Checking for similarities...\n",
            "Check Complete.\n"
          ],
          "name": "stdout"
        }
      ]
    },
    {
      "cell_type": "code",
      "metadata": {
        "id": "zFgMc7WJ4arV",
        "colab_type": "code",
        "colab": {
          "base_uri": "https://localhost:8080/",
          "height": 35
        },
        "outputId": "57ab3f2f-956b-4752-c539-1fb282f74598"
      },
      "source": [
        "import matplotlib.pyplot as plt\n",
        "\n",
        "l3_RAW['Carbon'].mean()\n",
        "l3_RAW['Carbon'].mean()"
      ],
      "execution_count": null,
      "outputs": [
        {
          "output_type": "execute_result",
          "data": {
            "text/plain": [
              "9.933333333333334"
            ]
          },
          "metadata": {
            "tags": []
          },
          "execution_count": 12
        }
      ]
    },
    {
      "cell_type": "code",
      "metadata": {
        "id": "xfesWiHq5WNT",
        "colab_type": "code",
        "colab": {}
      },
      "source": [
        "gr_RAW.to_excel('gr.xlsx')"
      ],
      "execution_count": null,
      "outputs": []
    }
  ]
}