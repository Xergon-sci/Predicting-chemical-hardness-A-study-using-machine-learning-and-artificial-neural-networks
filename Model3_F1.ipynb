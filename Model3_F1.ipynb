{
  "nbformat": 4,
  "nbformat_minor": 0,
  "metadata": {
    "colab": {
      "name": "Model3_F1.ipynb",
      "provenance": [],
      "collapsed_sections": [],
      "toc_visible": true,
      "mount_file_id": "1osuj00g0wbQQo6a3dLuH2864K2vFI0Jk",
      "authorship_tag": "ABX9TyMD0zDaXa5ct2N0lHILSjJb",
      "include_colab_link": true
    },
    "kernelspec": {
      "name": "python3",
      "display_name": "Python 3"
    }
  },
  "cells": [
    {
      "cell_type": "markdown",
      "metadata": {
        "id": "view-in-github",
        "colab_type": "text"
      },
      "source": [
        "<a href=\"https://colab.research.google.com/github/Xergon-sci/Predicting-chemical-hardness-A-study-using-machine-learning-and-artificial-neural-networks/blob/master/Model3_F1.ipynb\" target=\"_parent\"><img src=\"https://colab.research.google.com/assets/colab-badge.svg\" alt=\"Open In Colab\"/></a>"
      ]
    },
    {
      "cell_type": "markdown",
      "metadata": {
        "id": "Az-EqazXtWmf",
        "colab_type": "text"
      },
      "source": [
        "# Initialization\n",
        "---\n",
        "\n"
      ]
    },
    {
      "cell_type": "code",
      "metadata": {
        "id": "vOImGn7l1m5_",
        "colab_type": "code",
        "colab": {
          "base_uri": "https://localhost:8080/",
          "height": 54
        },
        "outputId": "cc98ed8c-af0c-4205-a00c-4afe52b4353b"
      },
      "source": [
        "import pandas as pd\n",
        "import numpy as np\n",
        "from sklearn import preprocessing\n",
        "from sklearn.kernel_ridge import KernelRidge\n",
        "from sklearn.model_selection import train_test_split\n",
        "from sklearn import metrics\n",
        "import matplotlib.pyplot as plt\n",
        "import seaborn as sns"
      ],
      "execution_count": null,
      "outputs": [
        {
          "output_type": "stream",
          "text": [
            "/usr/local/lib/python3.6/dist-packages/statsmodels/tools/_testing.py:19: FutureWarning: pandas.util.testing is deprecated. Use the functions in the public API at pandas.testing instead.\n",
            "  import pandas.util.testing as tm\n"
          ],
          "name": "stderr"
        }
      ]
    },
    {
      "cell_type": "code",
      "metadata": {
        "id": "6R4Cu4-5G_5M",
        "colab_type": "code",
        "colab": {}
      },
      "source": [
        "df = pd.read_table(\"/content/drive/My Drive/vub/dataset_F1.txt\", sep='\\t')"
      ],
      "execution_count": null,
      "outputs": []
    },
    {
      "cell_type": "code",
      "metadata": {
        "id": "UvciXC5X5TcI",
        "colab_type": "code",
        "colab": {}
      },
      "source": [
        "out = df.head()\n",
        "out.to_excel('F1Ex.xlsx')"
      ],
      "execution_count": null,
      "outputs": []
    },
    {
      "cell_type": "markdown",
      "metadata": {
        "id": "nvDg3BrcteA5",
        "colab_type": "text"
      },
      "source": [
        "#Model Architecture\n",
        "---\n",
        "This model implements kernel regression from sci-kit learn."
      ]
    },
    {
      "cell_type": "markdown",
      "metadata": {
        "id": "7_FHMaXbt5Kv",
        "colab_type": "text"
      },
      "source": [
        "# Data preprocessing\n",
        "---\n",
        "\n"
      ]
    },
    {
      "cell_type": "code",
      "metadata": {
        "id": "Ll3nTKwCHeVr",
        "colab_type": "code",
        "colab": {
          "base_uri": "https://localhost:8080/",
          "height": 127
        },
        "outputId": "e29ec376-c1e1-44c0-ef03-a6c24e105d83"
      },
      "source": [
        "# Convert data to array\n",
        "dataset = df.values\n",
        "\n",
        "# Split the data into features and label\n",
        "features_RAW = dataset[:,2:12]\n",
        "labels_RAW = dataset[:,12]\n",
        "\n",
        "#---------- Preprocessing the data ----------\n",
        "# Get the scaler from sci-kit learn\n",
        "scaler = preprocessing.MinMaxScaler()\n",
        "\n",
        "# Scale the features and the labels = normalization\n",
        "scaled_features = scaler.fit_transform(features_RAW)\n",
        "scaled_labels = labels_RAW / 10\n",
        "\n",
        "# Split the set into training and validation 70/30\n",
        "training_features, v_and_t_features, training_labels, v_and_t_labels = train_test_split(scaled_features, scaled_labels, test_size=0.3)\n",
        "\n",
        "# Split the v and t features equally\n",
        "validation_features, test_features, validation_labels, test_labels = train_test_split(v_and_t_features, v_and_t_labels, test_size=0.5)\n",
        "\n",
        "# These labels are used for training\n",
        "training_labels = training_labels.astype(np.float)\n",
        "validation_labels = validation_labels.astype(np.float)\n",
        "\n",
        "# These labels are used for comparing only so they can be denormalized\n",
        "test_labels = test_labels.astype(np.float)\n",
        "test_labels = test_labels * 10\n",
        "\n",
        "# Print the types of each set each set should be of type float\n",
        "print('training features: ', training_features.dtype)\n",
        "print('training labels: ', training_labels.dtype)\n",
        "print('validation features: ', validation_features.dtype)\n",
        "print('validation labels: ', validation_labels.dtype)\n",
        "print('test features: ', test_features.dtype)\n",
        "print('test labels: ', test_labels.dtype)"
      ],
      "execution_count": null,
      "outputs": [
        {
          "output_type": "stream",
          "text": [
            "training features:  float64\n",
            "training labels:  float64\n",
            "validation features:  float64\n",
            "validation labels:  float64\n",
            "test features:  float64\n",
            "test labels:  float64\n"
          ],
          "name": "stdout"
        }
      ]
    },
    {
      "cell_type": "markdown",
      "metadata": {
        "id": "TlxWGiiXuA-0",
        "colab_type": "text"
      },
      "source": [
        "# Model assembly\n",
        "\n",
        "\n",
        "---\n",
        "\n"
      ]
    },
    {
      "cell_type": "code",
      "metadata": {
        "id": "Ab_csMLkHnJh",
        "colab_type": "code",
        "colab": {
          "base_uri": "https://localhost:8080/",
          "height": 54
        },
        "outputId": "badf0204-07a6-4ead-e30c-4d80f5bead30"
      },
      "source": [
        "# Implement the kernel ridge regression\n",
        "model = KernelRidge(alpha=0.01, degree=3)\n",
        "\n",
        "# Train the model\n",
        "model.fit(training_features, training_labels)"
      ],
      "execution_count": null,
      "outputs": [
        {
          "output_type": "execute_result",
          "data": {
            "text/plain": [
              "KernelRidge(alpha=0.01, coef0=1, degree=3, gamma=None, kernel='linear',\n",
              "            kernel_params=None)"
            ]
          },
          "metadata": {
            "tags": []
          },
          "execution_count": 5
        }
      ]
    },
    {
      "cell_type": "markdown",
      "metadata": {
        "id": "rNr7CCU0uFw1",
        "colab_type": "text"
      },
      "source": [
        "# Model evaluation\n",
        "\n",
        "\n",
        "---\n",
        "\n"
      ]
    },
    {
      "cell_type": "code",
      "metadata": {
        "id": "MklqwrtiekIA",
        "colab_type": "code",
        "colab": {
          "base_uri": "https://localhost:8080/",
          "height": 646
        },
        "outputId": "46d83e7c-6667-4928-80d7-b7ac2e669c4c"
      },
      "source": [
        "# Make predictions based on the test set\n",
        "test_predictions = model.predict(test_features)\n",
        "\n",
        "# De normalize the predictions\n",
        "test_predictions = test_predictions *10\n",
        "\n",
        "# Calculate some statistics\n",
        "mean_predictions = np.mean(test_predictions)\n",
        "MAE = metrics.mean_absolute_error(test_labels, test_predictions)\n",
        "MSE = metrics.mean_squared_error(test_labels, test_predictions)\n",
        "RMSE = np.sqrt(metrics.mean_squared_error(test_labels, test_predictions))\n",
        "accuracy = (1 - (RMSE / mean_predictions)) * 100\n",
        "\n",
        "# Print the statistics\n",
        "print('Mean Absolute Error:', MAE)  \n",
        "print('Mean Squared Error:', MSE)  \n",
        "print('Root Mean Squared Error:', RMSE)\n",
        "print('Accuracy', accuracy)\n",
        "\n",
        "# Plot some statistics\n",
        "a = plt.axes(aspect='equal')\n",
        "plt.scatter(test_labels, test_predictions, s=2)\n",
        "plt.title('Truth of predictions')\n",
        "plt.xlabel('True Values / eV')\n",
        "plt.ylabel('Predictions / eV')\n",
        "lims = [0, 10]\n",
        "plt.xlim(lims)\n",
        "plt.ylim(lims)\n",
        "_ = plt.plot(lims, lims)\n",
        "plt.show()\n",
        "plt.close()\n",
        "\n",
        "error = test_predictions - test_labels\n",
        "plt.hist(error, bins = 25)\n",
        "plt.title('Error on prediction')\n",
        "plt.xlabel(\"Prediction Error / eV\")\n",
        "_ = plt.ylabel(\"Count\")\n",
        "plt.show()\n",
        "plt.close()"
      ],
      "execution_count": null,
      "outputs": [
        {
          "output_type": "stream",
          "text": [
            "Mean Absolute Error: 0.4185865360301621\n",
            "Mean Squared Error: 0.6381262168729953\n",
            "Root Mean Squared Error: 0.7988280270953162\n",
            "Accuracy 81.93265595810114\n"
          ],
          "name": "stdout"
        },
        {
          "output_type": "display_data",
          "data": {
            "image/png": "[encoded data removed]",
            "text/plain": [
              "<Figure size 432x288 with 1 Axes>"
            ]
          },
          "metadata": {
            "tags": [],
            "needs_background": "light"
          }
        },
        {
          "output_type": "display_data",
          "data": {
            "image/png": "[encoded data removed]",
            "text/plain": [
              "<Figure size 432x288 with 1 Axes>"
            ]
          },
          "metadata": {
            "tags": [],
            "needs_background": "light"
          }
        }
      ]
    },
    {
      "cell_type": "markdown",
      "metadata": {
        "id": "_ZPwTUV4wESc",
        "colab_type": "text"
      },
      "source": [
        "# Cross validation"
      ]
    },
    {
      "cell_type": "code",
      "metadata": {
        "id": "o7kX_TfuwIHp",
        "colab_type": "code",
        "colab": {
          "base_uri": "https://localhost:8080/",
          "height": 127
        },
        "outputId": "06c8f3dd-ca84-4ce5-f9b4-755a5677ecee"
      },
      "source": [
        "from sklearn.model_selection import cross_validate\n",
        "from sklearn.model_selection import KFold\n",
        "\n",
        "kf = KFold(n_splits=3, shuffle=True)\n",
        "\n",
        "scoring = ['max_error', 'neg_mean_absolute_error', 'neg_mean_squared_error', 'neg_root_mean_squared_error']\n",
        "scores = cross_validate(model, scaled_features, scaled_labels, cv=kf, scoring=scoring)\n",
        "\n",
        "sorted(scores.keys())"
      ],
      "execution_count": null,
      "outputs": [
        {
          "output_type": "execute_result",
          "data": {
            "text/plain": [
              "['fit_time',\n",
              " 'score_time',\n",
              " 'test_max_error',\n",
              " 'test_neg_mean_absolute_error',\n",
              " 'test_neg_mean_squared_error',\n",
              " 'test_neg_root_mean_squared_error']"
            ]
          },
          "metadata": {
            "tags": []
          },
          "execution_count": 12
        }
      ]
    },
    {
      "cell_type": "code",
      "metadata": {
        "id": "eFduH54I3gay",
        "colab_type": "code",
        "colab": {
          "base_uri": "https://localhost:8080/",
          "height": 90
        },
        "outputId": "8418a562-d23d-4002-c450-d517370b5380"
      },
      "source": [
        "print(\"Max Error: %0.5f (+/- %0.5f)\" % (-(scores['test_max_error'].mean()*10), scores['test_max_error'].std() * 2*10))\n",
        "print(\"MAE: %0.5f (+/- %0.5f)\" % (-(scores['test_neg_mean_absolute_error'].mean()*10), scores['test_neg_mean_absolute_error'].std() * 2*10))\n",
        "print(\"MSE: %0.5f (+/- %0.5f)\" % (-(scores['test_neg_mean_squared_error'].mean()*10), scores['test_neg_mean_squared_error'].std() * 2*10))\n",
        "print(\"RMSE: %0.5f (+/- %0.5f)\" % (-(scores['test_neg_root_mean_squared_error'].mean()*10), scores['test_neg_root_mean_squared_error'].std() * 2*10))"
      ],
      "execution_count": null,
      "outputs": [
        {
          "output_type": "stream",
          "text": [
            "Max Error: 7.22276 (+/- 0.90172)\n",
            "MAE: 0.40661 (+/- 0.02121)\n",
            "MSE: 0.05087 (+/- 0.00688)\n",
            "RMSE: 0.71281 (+/- 0.04814)\n"
          ],
          "name": "stdout"
        }
      ]
    }
  ]
}